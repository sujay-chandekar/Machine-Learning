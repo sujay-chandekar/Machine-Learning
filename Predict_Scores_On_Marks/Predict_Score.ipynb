{
 "cells": [
  {
   "cell_type": "markdown",
   "id": "928b48f0",
   "metadata": {},
   "source": [
    "Importing the packages"
   ]
  },
  {
   "cell_type": "code",
   "execution_count": 20,
   "id": "90de2db3",
   "metadata": {},
   "outputs": [],
   "source": [
    "import numpy as np\n",
    "import pandas as pd\n",
    "from sklearn.linear_model import LinearRegression\n",
    "from sklearn.metrics import mean_absolute_error,mean_squared_error"
   ]
  },
  {
   "cell_type": "markdown",
   "id": "812c075f",
   "metadata": {},
   "source": [
    "Reading/Loading the data"
   ]
  },
  {
   "cell_type": "code",
   "execution_count": 21,
   "id": "0f616f3f",
   "metadata": {},
   "outputs": [
    {
     "name": "stdout",
     "output_type": "stream",
     "text": [
      "   Unnamed: 0  Hours  Scores\n",
      "0      2.5,21    2.5      21\n",
      "1      5.1,47    5.1      47\n",
      "2      3.2,27    3.2      27\n",
      "3      8.5,75    8.5      75\n",
      "4      3.5,30    3.5      30\n",
      "5      1.5,20    1.5      20\n",
      "6      9.2,88    9.2      88\n",
      "7      5.5,60    5.5      60\n",
      "8      8.3,81    8.3      81\n",
      "9      2.7,25    2.7      25\n",
      "10     7.7,85    7.7      85\n",
      "11     5.9,62    5.9      62\n",
      "12     4.5,41    4.5      41\n",
      "13     3.3,42    3.3      42\n",
      "14     1.1,17    1.1      17\n",
      "15     8.9,95    8.9      95\n",
      "16     2.5,30    2.5      30\n",
      "17     1.9,24    1.9      24\n",
      "18     6.1,67    6.1      67\n",
      "19     7.4,69    7.4      69\n",
      "20     2.7,30    2.7      30\n",
      "21     4.8,54    4.8      54\n",
      "22     3.8,35    3.8      35\n",
      "23     6.9,76    6.9      76\n",
      "24     7.8,86    7.8      86\n"
     ]
    }
   ],
   "source": [
    "#Reading data\n",
    "data = pd.read_csv(r\"Hours and Scores.csv\")\n",
    "print(data)"
   ]
  },
  {
   "cell_type": "markdown",
   "id": "00c50b68",
   "metadata": {},
   "source": [
    "Fiiting the model"
   ]
  },
  {
   "cell_type": "code",
   "execution_count": 22,
   "id": "c90b9664",
   "metadata": {},
   "outputs": [],
   "source": [
    "X = data[['Hours']]\n",
    "y = data['Scores']\n",
    "\n",
    "model = LinearRegression()\n",
    "model.fit(X,y)\n",
    "predicted_score = model.predict(X)\n"
   ]
  },
  {
   "cell_type": "markdown",
   "id": "793d9239",
   "metadata": {},
   "source": [
    "Evaluating MAE MSE RMSE"
   ]
  },
  {
   "cell_type": "code",
   "execution_count": 23,
   "id": "ef404c3a",
   "metadata": {},
   "outputs": [
    {
     "name": "stdout",
     "output_type": "stream",
     "text": [
      "Mean Absolute Error :  4.97\n",
      "Mean Squared Error :  28.88\n",
      "Root Mean Squared Error :  5.37\n"
     ]
    }
   ],
   "source": [
    "#Evaluate\n",
    "mae = mean_absolute_error(y,predicted_score)\n",
    "mse = mean_squared_error(y,predicted_score)\n",
    "rmse = np.sqrt(mse)\n",
    "print(\"Mean Absolute Error : \",np.round(mae,2))\n",
    "print(\"Mean Squared Error : \",np.round(mse,2))\n",
    "print(\"Root Mean Squared Error : \",np.round(rmse,2))\n"
   ]
  },
  {
   "cell_type": "markdown",
   "id": "04d63647",
   "metadata": {},
   "source": [
    "Taking Input And Checking"
   ]
  },
  {
   "cell_type": "code",
   "execution_count": 24,
   "id": "88f7c89e",
   "metadata": {},
   "outputs": [
    {
     "name": "stdout",
     "output_type": "stream",
     "text": [
      "Prediction:  [80.69010053]\n"
     ]
    },
    {
     "name": "stderr",
     "output_type": "stream",
     "text": [
      "c:\\Users\\sujay\\AppData\\Local\\Programs\\Python\\Python312\\Lib\\site-packages\\sklearn\\utils\\validation.py:2749: UserWarning: X does not have valid feature names, but LinearRegression was fitted with feature names\n",
      "  warnings.warn(\n"
     ]
    }
   ],
   "source": [
    "hours = float(input(\"Enter the number of hours studied: \"))\n",
    "new_prediction = model.predict([[hours]])\n",
    "print(\"Prediction: \",new_prediction)\n"
   ]
  }
 ],
 "metadata": {
  "kernelspec": {
   "display_name": "Python 3",
   "language": "python",
   "name": "python3"
  },
  "language_info": {
   "codemirror_mode": {
    "name": "ipython",
    "version": 3
   },
   "file_extension": ".py",
   "mimetype": "text/x-python",
   "name": "python",
   "nbconvert_exporter": "python",
   "pygments_lexer": "ipython3",
   "version": "3.12.4"
  }
 },
 "nbformat": 4,
 "nbformat_minor": 5
}
