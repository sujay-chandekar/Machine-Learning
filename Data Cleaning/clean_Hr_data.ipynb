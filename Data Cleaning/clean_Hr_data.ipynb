{
 "cells": [
  {
   "cell_type": "markdown",
   "id": "95aae8a9",
   "metadata": {},
   "source": [
    "DATA CLEANING"
   ]
  },
  {
   "cell_type": "code",
   "execution_count": 300,
   "id": "7aeebbe5",
   "metadata": {},
   "outputs": [],
   "source": [
    "import pandas as pd\n",
    "import numpy as np"
   ]
  },
  {
   "cell_type": "markdown",
   "id": "81e3d1a1",
   "metadata": {},
   "source": [
    "Load data "
   ]
  },
  {
   "cell_type": "code",
   "execution_count": 301,
   "id": "a7159bdc",
   "metadata": {},
   "outputs": [
    {
     "data": {
      "text/html": [
       "<div>\n",
       "<style scoped>\n",
       "    .dataframe tbody tr th:only-of-type {\n",
       "        vertical-align: middle;\n",
       "    }\n",
       "\n",
       "    .dataframe tbody tr th {\n",
       "        vertical-align: top;\n",
       "    }\n",
       "\n",
       "    .dataframe thead th {\n",
       "        text-align: right;\n",
       "    }\n",
       "</style>\n",
       "<table border=\"1\" class=\"dataframe\">\n",
       "  <thead>\n",
       "    <tr style=\"text-align: right;\">\n",
       "      <th></th>\n",
       "      <th>Name</th>\n",
       "      <th>Age</th>\n",
       "      <th>Salary</th>\n",
       "      <th>Gender</th>\n",
       "      <th>Department</th>\n",
       "      <th>Position</th>\n",
       "      <th>Joining Date</th>\n",
       "      <th>Performance Score</th>\n",
       "      <th>Email</th>\n",
       "      <th>Phone Number</th>\n",
       "    </tr>\n",
       "  </thead>\n",
       "  <tbody>\n",
       "    <tr>\n",
       "      <th>0</th>\n",
       "      <td>grace</td>\n",
       "      <td>25</td>\n",
       "      <td>50000</td>\n",
       "      <td>Male</td>\n",
       "      <td>HR</td>\n",
       "      <td>Manager</td>\n",
       "      <td>April 5, 2018</td>\n",
       "      <td>D</td>\n",
       "      <td>email@example.com</td>\n",
       "      <td>NaN</td>\n",
       "    </tr>\n",
       "    <tr>\n",
       "      <th>1</th>\n",
       "      <td>david</td>\n",
       "      <td>NaN</td>\n",
       "      <td>65000</td>\n",
       "      <td>Female</td>\n",
       "      <td>Finance</td>\n",
       "      <td>Director</td>\n",
       "      <td>2020/02/20</td>\n",
       "      <td>F</td>\n",
       "      <td>user@domain.com</td>\n",
       "      <td>123-456-7890</td>\n",
       "    </tr>\n",
       "    <tr>\n",
       "      <th>2</th>\n",
       "      <td>hannah</td>\n",
       "      <td>35</td>\n",
       "      <td>SIXTY THOUSAND</td>\n",
       "      <td>Female</td>\n",
       "      <td>Sales</td>\n",
       "      <td>Director</td>\n",
       "      <td>01/15/2020</td>\n",
       "      <td>C</td>\n",
       "      <td>email@example.com</td>\n",
       "      <td>098-765-4321</td>\n",
       "    </tr>\n",
       "    <tr>\n",
       "      <th>3</th>\n",
       "      <td>eve</td>\n",
       "      <td>NaN</td>\n",
       "      <td>50000</td>\n",
       "      <td>Female</td>\n",
       "      <td>IT</td>\n",
       "      <td>Manager</td>\n",
       "      <td>April 5, 2018</td>\n",
       "      <td>A</td>\n",
       "      <td>name@company.org</td>\n",
       "      <td></td>\n",
       "    </tr>\n",
       "    <tr>\n",
       "      <th>4</th>\n",
       "      <td>grace</td>\n",
       "      <td>NaN</td>\n",
       "      <td>NAN</td>\n",
       "      <td>Female</td>\n",
       "      <td>Finance</td>\n",
       "      <td>Manager</td>\n",
       "      <td>01/15/2020</td>\n",
       "      <td>F</td>\n",
       "      <td>name@company.org</td>\n",
       "      <td>098-765-4321</td>\n",
       "    </tr>\n",
       "  </tbody>\n",
       "</table>\n",
       "</div>"
      ],
      "text/plain": [
       "       Name  Age          Salary  Gender Department  Position   Joining Date  \\\n",
       "0    grace    25           50000    Male         HR   Manager  April 5, 2018   \n",
       "1    david   NaN           65000  Female    Finance  Director     2020/02/20   \n",
       "2   hannah    35  SIXTY THOUSAND  Female      Sales  Director     01/15/2020   \n",
       "3      eve   NaN           50000  Female         IT   Manager  April 5, 2018   \n",
       "4    grace   NaN            NAN   Female    Finance   Manager     01/15/2020   \n",
       "\n",
       "  Performance Score              Email  Phone Number  \n",
       "0                 D  email@example.com           NaN  \n",
       "1                 F    user@domain.com  123-456-7890  \n",
       "2                 C  email@example.com  098-765-4321  \n",
       "3                 A   name@company.org                \n",
       "4                 F   name@company.org  098-765-4321  "
      ]
     },
     "execution_count": 301,
     "metadata": {},
     "output_type": "execute_result"
    }
   ],
   "source": [
    "df = pd.read_csv('messy_HR_data.csv')\n",
    "df.head()"
   ]
  },
  {
   "cell_type": "markdown",
   "id": "6748c15e",
   "metadata": {},
   "source": [
    "Checking Which Data Are Need To Clean"
   ]
  },
  {
   "cell_type": "code",
   "execution_count": 302,
   "id": "832bbe8d",
   "metadata": {},
   "outputs": [
    {
     "data": {
      "text/plain": [
       "Name                   0\n",
       "Age                  159\n",
       "Salary                 0\n",
       "Gender                 0\n",
       "Department             0\n",
       "Position               0\n",
       "Joining Date           0\n",
       "Performance Score      0\n",
       "Email                390\n",
       "Phone Number         185\n",
       "dtype: int64"
      ]
     },
     "execution_count": 302,
     "metadata": {},
     "output_type": "execute_result"
    }
   ],
   "source": [
    "df.isnull().sum()"
   ]
  },
  {
   "cell_type": "markdown",
   "id": "ac1293fc",
   "metadata": {},
   "source": [
    "Cleaning \"Name\""
   ]
  },
  {
   "cell_type": "code",
   "execution_count": 303,
   "id": "8ffd1b51",
   "metadata": {},
   "outputs": [
    {
     "data": {
      "text/plain": [
       "0        grace \n",
       "1        david \n",
       "2       hannah \n",
       "3          eve \n",
       "4        grace \n",
       "         ...   \n",
       "995       jack \n",
       "996       jack \n",
       "997     hannah \n",
       "998        bob \n",
       "999        ivy \n",
       "Name: Name, Length: 1000, dtype: object"
      ]
     },
     "execution_count": 303,
     "metadata": {},
     "output_type": "execute_result"
    }
   ],
   "source": [
    "df['Name']"
   ]
  },
  {
   "cell_type": "code",
   "execution_count": 304,
   "id": "138d9440",
   "metadata": {},
   "outputs": [],
   "source": [
    "df['Name'] = df['Name'].fillna('No Name')\n"
   ]
  },
  {
   "cell_type": "markdown",
   "id": "932af897",
   "metadata": {},
   "source": [
    "Cleaning Age"
   ]
  },
  {
   "cell_type": "code",
   "execution_count": 305,
   "id": "82f03c68",
   "metadata": {},
   "outputs": [],
   "source": [
    "df['Age'] = pd.to_numeric(df['Age'],errors='coerce')\n",
    "df['Age'] = df['Age'].fillna(df['Age'].median())\n"
   ]
  },
  {
   "cell_type": "code",
   "execution_count": 306,
   "id": "956a553c",
   "metadata": {},
   "outputs": [
    {
     "data": {
      "text/plain": [
       "0      25.0\n",
       "1      35.0\n",
       "2      35.0\n",
       "3      35.0\n",
       "4      35.0\n",
       "       ... \n",
       "995    50.0\n",
       "996    35.0\n",
       "997    35.0\n",
       "998    25.0\n",
       "999    35.0\n",
       "Name: Age, Length: 1000, dtype: float64"
      ]
     },
     "execution_count": 306,
     "metadata": {},
     "output_type": "execute_result"
    }
   ],
   "source": [
    "df['Age']"
   ]
  },
  {
   "cell_type": "markdown",
   "id": "997a6fe2",
   "metadata": {},
   "source": [
    "Salary Cleaning"
   ]
  },
  {
   "cell_type": "code",
   "execution_count": 307,
   "id": "7724adb5",
   "metadata": {},
   "outputs": [],
   "source": [
    "df['Salary'] = pd.to_numeric(df['Salary'],errors='coerce')\n",
    "df['Salary'] = df['Salary'].fillna(df['Salary'].median())"
   ]
  },
  {
   "cell_type": "code",
   "execution_count": 308,
   "id": "ab208c03",
   "metadata": {},
   "outputs": [
    {
     "data": {
      "text/plain": [
       "0      50000.0\n",
       "1      65000.0\n",
       "2      65000.0\n",
       "3      50000.0\n",
       "4      65000.0\n",
       "        ...   \n",
       "995    65000.0\n",
       "996    50000.0\n",
       "997    70000.0\n",
       "998    65000.0\n",
       "999    65000.0\n",
       "Name: Salary, Length: 1000, dtype: float64"
      ]
     },
     "execution_count": 308,
     "metadata": {},
     "output_type": "execute_result"
    }
   ],
   "source": [
    "df['Salary']"
   ]
  },
  {
   "cell_type": "markdown",
   "id": "b338d5e4",
   "metadata": {},
   "source": [
    "Gender Cleaning"
   ]
  },
  {
   "cell_type": "code",
   "execution_count": 309,
   "id": "50605f59",
   "metadata": {},
   "outputs": [
    {
     "data": {
      "text/plain": [
       "0          M\n",
       "1          F\n",
       "2          F\n",
       "3          F\n",
       "4          F\n",
       "       ...  \n",
       "995        F\n",
       "996        M\n",
       "997        M\n",
       "998    Other\n",
       "999        M\n",
       "Name: Gender, Length: 1000, dtype: object"
      ]
     },
     "execution_count": 309,
     "metadata": {},
     "output_type": "execute_result"
    }
   ],
   "source": [
    "df['Gender'] = df['Gender'].fillna('Not Specified')\n",
    "df['Gender'] = df['Gender'].str.strip()\n",
    "df['Gender'] = df['Gender'].replace({'Male':'M','Female':'F'}) \n",
    "df['Gender']"
   ]
  },
  {
   "cell_type": "markdown",
   "id": "21f06f78",
   "metadata": {},
   "source": [
    "Department Cleaning"
   ]
  },
  {
   "cell_type": "code",
   "execution_count": 310,
   "id": "cb178881",
   "metadata": {},
   "outputs": [
    {
     "data": {
      "text/plain": [
       "0             hr\n",
       "1        finance\n",
       "2          sales\n",
       "3             it\n",
       "4        finance\n",
       "         ...    \n",
       "995           hr\n",
       "996      finance\n",
       "997           it\n",
       "998    marketing\n",
       "999      finance\n",
       "Name: Department, Length: 1000, dtype: object"
      ]
     },
     "execution_count": 310,
     "metadata": {},
     "output_type": "execute_result"
    }
   ],
   "source": [
    "df['Department']\n",
    "df['Department'] = df['Department'].fillna('Not Assigned')\n",
    "df['Department'] = df['Department'].str.lower().str.strip()\n",
    "df['Department'] = df['Department'].replace({'It':'IT','Hr':'HR'})\n",
    "df['Department']"
   ]
  },
  {
   "cell_type": "markdown",
   "id": "69f8c7a2",
   "metadata": {},
   "source": [
    "Position Cleaning"
   ]
  },
  {
   "cell_type": "code",
   "execution_count": 311,
   "id": "a87c9aff",
   "metadata": {},
   "outputs": [
    {
     "data": {
      "text/plain": [
       "0        Manager\n",
       "1       Director\n",
       "2       Director\n",
       "3        Manager\n",
       "4        Manager\n",
       "         ...    \n",
       "995      Manager\n",
       "996      Analyst\n",
       "997    Assistant\n",
       "998      Manager\n",
       "999      Manager\n",
       "Name: Position, Length: 1000, dtype: object"
      ]
     },
     "execution_count": 311,
     "metadata": {},
     "output_type": "execute_result"
    }
   ],
   "source": [
    "df['Postion'] = df['Position'].str.lower().str.strip()\n",
    "df['Position']"
   ]
  },
  {
   "cell_type": "markdown",
   "id": "371bb020",
   "metadata": {},
   "source": [
    "Joining Date Cleaning"
   ]
  },
  {
   "cell_type": "code",
   "execution_count": 312,
   "id": "29f28c47",
   "metadata": {},
   "outputs": [
    {
     "name": "stderr",
     "output_type": "stream",
     "text": [
      "C:\\Users\\sujay\\AppData\\Local\\Temp\\ipykernel_15488\\328518247.py:8: UserWarning: The argument 'infer_datetime_format' is deprecated and will be removed in a future version. A strict version of it is now the default, see https://pandas.pydata.org/pdeps/0004-consistent-to-datetime-parsing.html. You can safely remove this argument.\n",
      "  df['Joining Date'] = pd.to_datetime(df['Joining Date'], errors='coerce', infer_datetime_format=True)\n"
     ]
    },
    {
     "data": {
      "text/plain": [
       "0      05/04/2018\n",
       "1      01/01/2000\n",
       "2      01/15/2020\n",
       "3      05/04/2018\n",
       "4      01/15/2020\n",
       "          ...    \n",
       "995    01/01/2000\n",
       "996    05/04/2018\n",
       "997    01/15/2020\n",
       "998    05/04/2018\n",
       "999    01/01/2000\n",
       "Name: Joining Date, Length: 1000, dtype: object"
      ]
     },
     "execution_count": 312,
     "metadata": {},
     "output_type": "execute_result"
    }
   ],
   "source": [
    "df['Joining Date'] = np.where(\n",
    "    df['Joining Date'] == 'April 5, 2018',\n",
    "    '05/04/2018',  # use string for consistency\n",
    "    df['Joining Date']\n",
    ")\n",
    "\n",
    "# Then convert everything to a uniform datetime format\n",
    "df['Joining Date'] = pd.to_datetime(df['Joining Date'], errors='coerce', infer_datetime_format=True)\n",
    "df['Joining Date'] = df['Joining Date'].dt.strftime('%m/%d/%Y')\n",
    "df['Joining Date'] = df['Joining Date'].fillna('01/01/2000')\n",
    "df['Joining Date']"
   ]
  },
  {
   "cell_type": "markdown",
   "id": "dfbebefc",
   "metadata": {},
   "source": [
    "Performance Cleaning"
   ]
  },
  {
   "cell_type": "code",
   "execution_count": 313,
   "id": "4fe8e324",
   "metadata": {},
   "outputs": [
    {
     "data": {
      "text/plain": [
       "0      D\n",
       "1      F\n",
       "2      C\n",
       "3      A\n",
       "4      F\n",
       "      ..\n",
       "995    F\n",
       "996    C\n",
       "997    D\n",
       "998    D\n",
       "999    C\n",
       "Name: Performance Score, Length: 1000, dtype: object"
      ]
     },
     "execution_count": 313,
     "metadata": {},
     "output_type": "execute_result"
    }
   ],
   "source": [
    "df['Performance Score'].str.capitalize()"
   ]
  },
  {
   "cell_type": "markdown",
   "id": "503ba4b6",
   "metadata": {},
   "source": [
    "Email Cleaning\n"
   ]
  },
  {
   "cell_type": "code",
   "execution_count": 314,
   "id": "d46c18ea",
   "metadata": {},
   "outputs": [
    {
     "name": "stderr",
     "output_type": "stream",
     "text": [
      "C:\\Users\\sujay\\AppData\\Local\\Temp\\ipykernel_15488\\4078563411.py:1: FutureWarning: A value is trying to be set on a copy of a DataFrame or Series through chained assignment using an inplace method.\n",
      "The behavior will change in pandas 3.0. This inplace method will never work because the intermediate object on which we are setting values always behaves as a copy.\n",
      "\n",
      "For example, when doing 'df[col].method(value, inplace=True)', try using 'df.method({col: value}, inplace=True)' or df[col] = df[col].method(value) instead, to perform the operation inplace on the original object.\n",
      "\n",
      "\n",
      "  df['Email'].fillna(\"noemail.example.com\", inplace=True)\n"
     ]
    },
    {
     "data": {
      "text/plain": [
       "0        email@example.com\n",
       "1          user@domain.com\n",
       "2        email@example.com\n",
       "3         name@company.org\n",
       "4         name@company.org\n",
       "              ...         \n",
       "995    noemail.example.com\n",
       "996    noemail.example.com\n",
       "997        user@domain.com\n",
       "998      email@example.com\n",
       "999        user@domain.com\n",
       "Name: Email, Length: 1000, dtype: object"
      ]
     },
     "execution_count": 314,
     "metadata": {},
     "output_type": "execute_result"
    }
   ],
   "source": [
    "df['Email'].fillna(\"noemail.example.com\", inplace=True)\n",
    "df['Email'] = df['Email'].str.lower().str.strip()\n",
    "df['Email']"
   ]
  },
  {
   "cell_type": "markdown",
   "id": "f4cc965a",
   "metadata": {},
   "source": [
    "Phone Number"
   ]
  },
  {
   "cell_type": "code",
   "execution_count": 315,
   "id": "47ef85ef",
   "metadata": {},
   "outputs": [
    {
     "data": {
      "text/plain": [
       "0      000-000-0000\n",
       "1      123-456-7890\n",
       "2      098-765-4321\n",
       "3                  \n",
       "4      098-765-4321\n",
       "           ...     \n",
       "995    098-765-4321\n",
       "996    555-555-5555\n",
       "997    000-000-0000\n",
       "998    000-000-0000\n",
       "999    123-456-7890\n",
       "Name: Phone Number, Length: 1000, dtype: object"
      ]
     },
     "execution_count": 315,
     "metadata": {},
     "output_type": "execute_result"
    }
   ],
   "source": [
    "df['Phone Number'].isnull().sum()\n",
    "df['Phone Number'] = df['Phone Number'].fillna('000-000-0000')\n",
    "df['Phone Number']"
   ]
  },
  {
   "cell_type": "code",
   "execution_count": 316,
   "id": "9d73b4ec",
   "metadata": {},
   "outputs": [
    {
     "data": {
      "text/plain": [
       "np.int64(0)"
      ]
     },
     "execution_count": 316,
     "metadata": {},
     "output_type": "execute_result"
    }
   ],
   "source": [
    "df.duplicated().sum()"
   ]
  },
  {
   "cell_type": "code",
   "execution_count": 317,
   "id": "e282c050",
   "metadata": {},
   "outputs": [],
   "source": [
    "df.to_csv('cleaned_HR_data.csv', index=False)"
   ]
  }
 ],
 "metadata": {
  "kernelspec": {
   "display_name": "Python 3",
   "language": "python",
   "name": "python3"
  },
  "language_info": {
   "codemirror_mode": {
    "name": "ipython",
    "version": 3
   },
   "file_extension": ".py",
   "mimetype": "text/x-python",
   "name": "python",
   "nbconvert_exporter": "python",
   "pygments_lexer": "ipython3",
   "version": "3.12.4"
  }
 },
 "nbformat": 4,
 "nbformat_minor": 5
}
