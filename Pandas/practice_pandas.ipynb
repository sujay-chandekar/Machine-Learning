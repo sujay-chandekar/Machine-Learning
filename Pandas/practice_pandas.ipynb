{
 "cells": [
  {
   "cell_type": "markdown",
   "id": "6d244203",
   "metadata": {},
   "source": [
    "Pandas Series Data"
   ]
  },
  {
   "cell_type": "code",
   "execution_count": 4,
   "id": "63adc862",
   "metadata": {},
   "outputs": [],
   "source": [
    "import pandas as pd"
   ]
  },
  {
   "cell_type": "code",
   "execution_count": 7,
   "id": "23c458fc",
   "metadata": {},
   "outputs": [
    {
     "name": "stdout",
     "output_type": "stream",
     "text": [
      "a    1\n",
      "b    2\n",
      "c    3\n",
      "d    4\n",
      "e    5\n",
      "dtype: int64\n"
     ]
    }
   ],
   "source": [
    "s = pd.Series([1,2,3,4,5],index=['a','b','c','d','e'])\n",
    "print(s)"
   ]
  },
  {
   "cell_type": "markdown",
   "id": "53cb51f4",
   "metadata": {},
   "source": [
    "DataFrame \n",
    "2D Data"
   ]
  },
  {
   "cell_type": "code",
   "execution_count": null,
   "id": "81057f96",
   "metadata": {},
   "outputs": [
    {
     "name": "stdout",
     "output_type": "stream",
     "text": [
      "   names  marks\n",
      "0   Amit     90\n",
      "1  Sumit     91\n",
      "2     Om     89\n"
     ]
    }
   ],
   "source": [
    "df = pd.DataFrame({\"names\":[\"Amit\",\"Sumit\",\"Om\"],\n",
    "                   \"marks\":[90,91,89]})\n",
    "\n",
    "print(df)"
   ]
  },
  {
   "cell_type": "markdown",
   "id": "574189fd",
   "metadata": {},
   "source": [
    "Read data from csv file "
   ]
  },
  {
   "cell_type": "code",
   "execution_count": 18,
   "id": "52e76238",
   "metadata": {},
   "outputs": [
    {
     "name": "stdout",
     "output_type": "stream",
     "text": [
      "Printing Head\n",
      "   Index          User Id First Name Last Name     Sex  \\\n",
      "0      1  8717bbf45cCDbEe     Shelia   Mahoney    Male   \n",
      "1      2  3d5AD30A4cD38ed         Jo    Rivers  Female   \n",
      "2      3  810Ce0F276Badec     Sheryl    Lowery  Female   \n",
      "3      4  BF2a889C00f0cE1    Whitney    Hooper    Male   \n",
      "4      5  9afFEafAe1CBBB9    Lindsey      Rice  Female   \n",
      "\n",
      "                           Email               Phone Date of birth  \\\n",
      "0            pwarner@example.org        857.139.8239    2014-01-27   \n",
      "1  fergusonkatherine@example.net     +1-950-759-8687    1931-07-26   \n",
      "2            fhoward@example.org       (599)782-0605    2013-11-25   \n",
      "3          zjohnston@example.com     +1-939-130-6258    2012-11-17   \n",
      "4               elin@example.net  (390)417-1635x3010    1923-04-15   \n",
      "\n",
      "                  Job Title  \n",
      "0         Probation officer  \n",
      "1                    Dancer  \n",
      "2                      Copy  \n",
      "3  Counselling psychologist  \n",
      "4       Biomedical engineer  \n",
      "\n",
      "Printing Tail\n",
      "     Index          User Id First Name Last Name     Sex  \\\n",
      "995    996  fedF4c7Fd9e7cFa       Kurt    Bryant  Female   \n",
      "996    997  ECddaFEDdEc4FAB      Donna     Barry  Female   \n",
      "997    998  2adde51d8B8979E      Cathy  Mckinney  Female   \n",
      "998    999  Fb2FE369D1E171A   Jermaine    Phelps    Male   \n",
      "999   1000  8b756f6231DDC6e        Lee      Tran  Female   \n",
      "\n",
      "                       Email                  Phone Date of birth  \\\n",
      "995   lyonsdaisy@example.net           021.775.2933    1959-01-05   \n",
      "996  dariusbryan@example.com   001-149-710-7799x721    2001-10-06   \n",
      "997   georgechan@example.org  +1-750-774-4128x33265    1918-05-13   \n",
      "998      wanda04@example.net          (915)292-2254    1971-08-31   \n",
      "999  deannablack@example.org     079.752.5424x67259    1947-01-24   \n",
      "\n",
      "                           Job Title  \n",
      "995                Personnel officer  \n",
      "996          Education administrator  \n",
      "997  Commercial/residential surveyor  \n",
      "998                 Ambulance person  \n",
      "999       Nurse, learning disability  \n"
     ]
    }
   ],
   "source": [
    "df = pd.read_csv(\"people-1000.csv\")\n",
    "#printing \n",
    "print(\"Printing Head\")\n",
    "print(df.head())\n",
    "\n",
    "print(\"\\nPrinting Tail\")\n",
    "print(df.tail())\n"
   ]
  },
  {
   "cell_type": "markdown",
   "id": "0ebf031e",
   "metadata": {},
   "source": [
    "Discribe The Data\n",
    "And \n",
    "Info "
   ]
  },
  {
   "cell_type": "code",
   "execution_count": 20,
   "id": "33bf32d7",
   "metadata": {},
   "outputs": [
    {
     "name": "stdout",
     "output_type": "stream",
     "text": [
      "Discribe \n",
      "\n",
      "             Index\n",
      "count  1000.000000\n",
      "mean    500.500000\n",
      "std     288.819436\n",
      "min       1.000000\n",
      "25%     250.750000\n",
      "50%     500.500000\n",
      "75%     750.250000\n",
      "max    1000.000000\n",
      "\n",
      "Info\n",
      "\n",
      "<class 'pandas.core.frame.DataFrame'>\n",
      "RangeIndex: 1000 entries, 0 to 999\n",
      "Data columns (total 9 columns):\n",
      " #   Column         Non-Null Count  Dtype \n",
      "---  ------         --------------  ----- \n",
      " 0   Index          1000 non-null   int64 \n",
      " 1   User Id        1000 non-null   object\n",
      " 2   First Name     1000 non-null   object\n",
      " 3   Last Name      1000 non-null   object\n",
      " 4   Sex            1000 non-null   object\n",
      " 5   Email          1000 non-null   object\n",
      " 6   Phone          1000 non-null   object\n",
      " 7   Date of birth  1000 non-null   object\n",
      " 8   Job Title      1000 non-null   object\n",
      "dtypes: int64(1), object(8)\n",
      "memory usage: 70.4+ KB\n",
      "None\n"
     ]
    }
   ],
   "source": [
    "print(\"Discribe \\n\")\n",
    "print(df.describe())\n",
    "\n",
    "print(\"\\nInfo\\n\")\n",
    "print(df.info())\n"
   ]
  },
  {
   "cell_type": "markdown",
   "id": "48cd7551",
   "metadata": {},
   "source": [
    "Data selection"
   ]
  },
  {
   "cell_type": "code",
   "execution_count": 55,
   "id": "49692f96",
   "metadata": {},
   "outputs": [
    {
     "name": "stdout",
     "output_type": "stream",
     "text": [
      "Printing one Column\n",
      "0                pwarner@example.org\n",
      "1      fergusonkatherine@example.net\n",
      "2                fhoward@example.org\n",
      "3              zjohnston@example.com\n",
      "4                   elin@example.net\n",
      "                   ...              \n",
      "995           lyonsdaisy@example.net\n",
      "996          dariusbryan@example.com\n",
      "997           georgechan@example.org\n",
      "998              wanda04@example.net\n",
      "999          deannablack@example.org\n",
      "Name: Email, Length: 1000, dtype: object\n",
      "\n",
      "\n",
      "Printing multiple column data\n",
      "\n",
      "-----------------------------------------------\n",
      "\n",
      "    First Name Last Name\n",
      "0       Shelia   Mahoney\n",
      "1           Jo    Rivers\n",
      "2       Sheryl    Lowery\n",
      "3      Whitney    Hooper\n",
      "4      Lindsey      Rice\n",
      "..         ...       ...\n",
      "995       Kurt    Bryant\n",
      "996      Donna     Barry\n",
      "997      Cathy  Mckinney\n",
      "998   Jermaine    Phelps\n",
      "999        Lee      Tran\n",
      "\n",
      "[1000 rows x 2 columns]\n"
     ]
    }
   ],
   "source": [
    "print(\"Printing one Column\")\n",
    "print(df[\"Email\"])\n",
    "print(\"\\n\\nPrinting multiple column data\\n\\n-----------------------------------------------\\n\")\n",
    "print(df[[\"First Name\" ,\"Last Name\"]])"
   ]
  },
  {
   "cell_type": "markdown",
   "id": "a8af1a24",
   "metadata": {},
   "source": [
    "Perticular row Info"
   ]
  },
  {
   "cell_type": "code",
   "execution_count": 31,
   "id": "557b3360",
   "metadata": {},
   "outputs": [
    {
     "name": "stdout",
     "output_type": "stream",
     "text": [
      "Getting 2nd row values \n",
      "\n",
      "\n",
      "Index                                    6\n",
      "User Id                    aF75e6dDEBC5b66\n",
      "First Name                          Sherry\n",
      "Last Name                         Caldwell\n",
      "Sex                                   Male\n",
      "Email                kaitlin13@example.net\n",
      "Phone                           8537800927\n",
      "Date of birth                   1917-08-06\n",
      "Job Title        Higher education lecturer\n",
      "Name: 5, dtype: object\n"
     ]
    }
   ],
   "source": [
    "print(\"Getting 2nd row values \\n\\n\")\n",
    "print(df.iloc[5])"
   ]
  },
  {
   "cell_type": "markdown",
   "id": "99436a60",
   "metadata": {},
   "source": [
    "Creating new Dataframe and appling practices related to the NaN data"
   ]
  },
  {
   "cell_type": "code",
   "execution_count": 33,
   "id": "10a7caa7",
   "metadata": {},
   "outputs": [
    {
     "name": "stdout",
     "output_type": "stream",
     "text": [
      "     Index          User Id First Name Last Name     Sex  \\\n",
      "0        1  8717bbf45cCDbEe     Shelia   Mahoney    Male   \n",
      "1        2  3d5AD30A4cD38ed         Jo    Rivers  Female   \n",
      "2        3  810Ce0F276Badec     Sheryl    Lowery  Female   \n",
      "3        4  BF2a889C00f0cE1    Whitney    Hooper    Male   \n",
      "4        5  9afFEafAe1CBBB9    Lindsey      Rice     NaN   \n",
      "..     ...              ...        ...       ...     ...   \n",
      "995    996  fedF4c7Fd9e7cFa       Kurt    Bryant  Female   \n",
      "996    997  ECddaFEDdEc4FAB      Donna     Barry  Female   \n",
      "997    998  2adde51d8B8979E      Cathy  Mckinney  Female   \n",
      "998    999  Fb2FE369D1E171A   Jermaine    Phelps    Male   \n",
      "999   1000  8b756f6231DDC6e        Lee      Tran  Female   \n",
      "\n",
      "                             Email                  Phone Date of birth  \\\n",
      "0              pwarner@example.org           857.139.8239    2014-01-27   \n",
      "1    fergusonkatherine@example.net                 -10395    1931-07-26   \n",
      "2              fhoward@example.org          (599)782-0605    2013-11-25   \n",
      "3            zjohnston@example.com                  -7326    2012-11-17   \n",
      "4                 elin@example.net     (390)417-1635x3010    1923-04-15   \n",
      "..                             ...                    ...           ...   \n",
      "995         lyonsdaisy@example.net           021.775.2933    1959-01-05   \n",
      "996        dariusbryan@example.com   001-149-710-7799x721    2001-10-06   \n",
      "997         georgechan@example.org  +1-750-774-4128x33265    1918-05-13   \n",
      "998            wanda04@example.net          (915)292-2254    1971-08-31   \n",
      "999        deannablack@example.org     079.752.5424x67259    1947-01-24   \n",
      "\n",
      "                           Job Title  \n",
      "0                  Probation officer  \n",
      "1                             Dancer  \n",
      "2                               Copy  \n",
      "3           Counselling psychologist  \n",
      "4                Biomedical engineer  \n",
      "..                               ...  \n",
      "995                Personnel officer  \n",
      "996          Education administrator  \n",
      "997  Commercial/residential surveyor  \n",
      "998                 Ambulance person  \n",
      "999       Nurse, learning disability  \n",
      "\n",
      "[1000 rows x 9 columns]\n"
     ]
    }
   ],
   "source": [
    "df1 = pd.read_excel(\"people-1000.xlsx\")\n",
    "print(df1)"
   ]
  },
  {
   "cell_type": "markdown",
   "id": "db26c1e2",
   "metadata": {},
   "source": [
    "Data with NaN Data"
   ]
  },
  {
   "cell_type": "code",
   "execution_count": null,
   "id": "4b279086",
   "metadata": {},
   "outputs": [
    {
     "name": "stdout",
     "output_type": "stream",
     "text": [
      "Printing data with NaN value\n",
      "\n",
      "\n",
      "Index                                   10\n",
      "User Id                    4A42Fe10dB717CB\n",
      "First Name                           Harry\n",
      "Last Name                              NaN\n",
      "Sex                                   Male\n",
      "Email            lanechristina@example.net\n",
      "Phone                   (560)903-5068x4985\n",
      "Date of birth          1953-06-29 00:00:00\n",
      "Job Title        Insurance account manager\n",
      "Name: 9, dtype: object\n",
      "\n",
      "\n",
      "Removng NaN Data\n",
      "\n",
      "     Index          User Id First Name Last Name     Sex  \\\n",
      "0        1  8717bbf45cCDbEe     Shelia   Mahoney    Male   \n",
      "1        2  3d5AD30A4cD38ed         Jo    Rivers  Female   \n",
      "2        3  810Ce0F276Badec     Sheryl    Lowery  Female   \n",
      "3        4  BF2a889C00f0cE1    Whitney    Hooper    Male   \n",
      "5        6  aF75e6dDEBC5b66     Sherry  Caldwell    Male   \n",
      "..     ...              ...        ...       ...     ...   \n",
      "995    996  fedF4c7Fd9e7cFa       Kurt    Bryant  Female   \n",
      "996    997  ECddaFEDdEc4FAB      Donna     Barry  Female   \n",
      "997    998  2adde51d8B8979E      Cathy  Mckinney  Female   \n",
      "998    999  Fb2FE369D1E171A   Jermaine    Phelps    Male   \n",
      "999   1000  8b756f6231DDC6e        Lee      Tran  Female   \n",
      "\n",
      "                             Email                  Phone Date of birth  \\\n",
      "0              pwarner@example.org           857.139.8239    2014-01-27   \n",
      "1    fergusonkatherine@example.net                 -10395    1931-07-26   \n",
      "2              fhoward@example.org          (599)782-0605    2013-11-25   \n",
      "3            zjohnston@example.com                  -7326    2012-11-17   \n",
      "5            kaitlin13@example.net             8537800927    1917-08-06   \n",
      "..                             ...                    ...           ...   \n",
      "995         lyonsdaisy@example.net           021.775.2933    1959-01-05   \n",
      "996        dariusbryan@example.com   001-149-710-7799x721    2001-10-06   \n",
      "997         georgechan@example.org  +1-750-774-4128x33265    1918-05-13   \n",
      "998            wanda04@example.net          (915)292-2254    1971-08-31   \n",
      "999        deannablack@example.org     079.752.5424x67259    1947-01-24   \n",
      "\n",
      "                           Job Title  \n",
      "0                  Probation officer  \n",
      "1                             Dancer  \n",
      "2                               Copy  \n",
      "3           Counselling psychologist  \n",
      "5          Higher education lecturer  \n",
      "..                               ...  \n",
      "995                Personnel officer  \n",
      "996          Education administrator  \n",
      "997  Commercial/residential surveyor  \n",
      "998                 Ambulance person  \n",
      "999       Nurse, learning disability  \n",
      "\n",
      "[992 rows x 9 columns]\n",
      "\n",
      "\n",
      "Fill NaN data with some value\n",
      "\n",
      "\n",
      "     Index          User Id First Name Last Name     Sex  \\\n",
      "0        1  8717bbf45cCDbEe     Shelia   Mahoney    Male   \n",
      "1        2  3d5AD30A4cD38ed         Jo    Rivers  Female   \n",
      "2        3  810Ce0F276Badec     Sheryl    Lowery  Female   \n",
      "3        4  BF2a889C00f0cE1    Whitney    Hooper    Male   \n",
      "4        5  9afFEafAe1CBBB9    Lindsey      Rice       0   \n",
      "..     ...              ...        ...       ...     ...   \n",
      "995    996  fedF4c7Fd9e7cFa       Kurt    Bryant  Female   \n",
      "996    997  ECddaFEDdEc4FAB      Donna     Barry  Female   \n",
      "997    998  2adde51d8B8979E      Cathy  Mckinney  Female   \n",
      "998    999  Fb2FE369D1E171A   Jermaine    Phelps    Male   \n",
      "999   1000  8b756f6231DDC6e        Lee      Tran  Female   \n",
      "\n",
      "                             Email                  Phone Date of birth  \\\n",
      "0              pwarner@example.org           857.139.8239    2014-01-27   \n",
      "1    fergusonkatherine@example.net                 -10395    1931-07-26   \n",
      "2              fhoward@example.org          (599)782-0605    2013-11-25   \n",
      "3            zjohnston@example.com                  -7326    2012-11-17   \n",
      "4                 elin@example.net     (390)417-1635x3010    1923-04-15   \n",
      "..                             ...                    ...           ...   \n",
      "995         lyonsdaisy@example.net           021.775.2933    1959-01-05   \n",
      "996        dariusbryan@example.com   001-149-710-7799x721    2001-10-06   \n",
      "997         georgechan@example.org  +1-750-774-4128x33265    1918-05-13   \n",
      "998            wanda04@example.net          (915)292-2254    1971-08-31   \n",
      "999        deannablack@example.org     079.752.5424x67259    1947-01-24   \n",
      "\n",
      "                           Job Title  \n",
      "0                  Probation officer  \n",
      "1                             Dancer  \n",
      "2                               Copy  \n",
      "3           Counselling psychologist  \n",
      "4                Biomedical engineer  \n",
      "..                               ...  \n",
      "995                Personnel officer  \n",
      "996          Education administrator  \n",
      "997  Commercial/residential surveyor  \n",
      "998                 Ambulance person  \n",
      "999       Nurse, learning disability  \n",
      "\n",
      "[1000 rows x 9 columns]\n"
     ]
    }
   ],
   "source": [
    "print(\"Printing data with NaN value\\n\\n\")\n",
    "print(df1.iloc[9])\n",
    "\n",
    "print(\"\\n\\nRemovng NaN Data\\n\")\n",
    "print(df1.dropna())\n",
    "\n"
   ]
  },
  {
   "cell_type": "code",
   "execution_count": 61,
   "id": "8c972878",
   "metadata": {},
   "outputs": [
    {
     "name": "stdout",
     "output_type": "stream",
     "text": [
      "\n",
      "\n",
      "Fill NaN data with some value\n",
      "\n",
      "\n",
      "     Index          User Id First Name Last Name     Sex  \\\n",
      "0        1  8717bbf45cCDbEe     Shelia   Mahoney    Male   \n",
      "1        2  3d5AD30A4cD38ed         Jo    Rivers  Female   \n",
      "2        3  810Ce0F276Badec     Sheryl    Lowery  Female   \n",
      "3        4  BF2a889C00f0cE1    Whitney    Hooper    Male   \n",
      "4        5  9afFEafAe1CBBB9    Lindsey      Rice       0   \n",
      "..     ...              ...        ...       ...     ...   \n",
      "995    996  fedF4c7Fd9e7cFa       Kurt    Bryant  Female   \n",
      "996    997  ECddaFEDdEc4FAB      Donna     Barry  Female   \n",
      "997    998  2adde51d8B8979E      Cathy  Mckinney  Female   \n",
      "998    999  Fb2FE369D1E171A   Jermaine    Phelps    Male   \n",
      "999   1000  8b756f6231DDC6e        Lee      Tran  Female   \n",
      "\n",
      "                             Email                  Phone Date of birth  \\\n",
      "0              pwarner@example.org           857.139.8239    2014-01-27   \n",
      "1    fergusonkatherine@example.net                 -10395    1931-07-26   \n",
      "2              fhoward@example.org          (599)782-0605    2013-11-25   \n",
      "3            zjohnston@example.com                  -7326    2012-11-17   \n",
      "4                 elin@example.net     (390)417-1635x3010    1923-04-15   \n",
      "..                             ...                    ...           ...   \n",
      "995         lyonsdaisy@example.net           021.775.2933    1959-01-05   \n",
      "996        dariusbryan@example.com   001-149-710-7799x721    2001-10-06   \n",
      "997         georgechan@example.org  +1-750-774-4128x33265    1918-05-13   \n",
      "998            wanda04@example.net          (915)292-2254    1971-08-31   \n",
      "999        deannablack@example.org     079.752.5424x67259    1947-01-24   \n",
      "\n",
      "                           Job Title  \n",
      "0                  Probation officer  \n",
      "1                             Dancer  \n",
      "2                               Copy  \n",
      "3           Counselling psychologist  \n",
      "4                Biomedical engineer  \n",
      "..                               ...  \n",
      "995                Personnel officer  \n",
      "996          Education administrator  \n",
      "997  Commercial/residential surveyor  \n",
      "998                 Ambulance person  \n",
      "999       Nurse, learning disability  \n",
      "\n",
      "[1000 rows x 9 columns]\n"
     ]
    }
   ],
   "source": [
    "print(\"\\n\\nFill NaN data with some value\\n\\n\")\n",
    "print(df1.fillna(0))"
   ]
  },
  {
   "cell_type": "markdown",
   "id": "0630d308",
   "metadata": {},
   "source": [
    "Change the Column Name"
   ]
  },
  {
   "cell_type": "code",
   "execution_count": 65,
   "id": "aff898c5",
   "metadata": {},
   "outputs": [
    {
     "name": "stdout",
     "output_type": "stream",
     "text": [
      "     Index          User Id First Name Last Name     Sex  \\\n",
      "0        1  8717bbf45cCDbEe     Shelia   Mahoney    Male   \n",
      "1        2  3d5AD30A4cD38ed         Jo    Rivers  Female   \n",
      "2        3  810Ce0F276Badec     Sheryl    Lowery  Female   \n",
      "3        4  BF2a889C00f0cE1    Whitney    Hooper    Male   \n",
      "4        5  9afFEafAe1CBBB9    Lindsey      Rice     NaN   \n",
      "..     ...              ...        ...       ...     ...   \n",
      "995    996  fedF4c7Fd9e7cFa       Kurt    Bryant  Female   \n",
      "996    997  ECddaFEDdEc4FAB      Donna     Barry  Female   \n",
      "997    998  2adde51d8B8979E      Cathy  Mckinney  Female   \n",
      "998    999  Fb2FE369D1E171A   Jermaine    Phelps    Male   \n",
      "999   1000  8b756f6231DDC6e        Lee      Tran  Female   \n",
      "\n",
      "                              Mail                  Phone Date of birth  \\\n",
      "0              pwarner@example.org           857.139.8239    2014-01-27   \n",
      "1    fergusonkatherine@example.net                 -10395    1931-07-26   \n",
      "2              fhoward@example.org          (599)782-0605    2013-11-25   \n",
      "3            zjohnston@example.com                  -7326    2012-11-17   \n",
      "4                 elin@example.net     (390)417-1635x3010    1923-04-15   \n",
      "..                             ...                    ...           ...   \n",
      "995         lyonsdaisy@example.net           021.775.2933    1959-01-05   \n",
      "996        dariusbryan@example.com   001-149-710-7799x721    2001-10-06   \n",
      "997         georgechan@example.org  +1-750-774-4128x33265    1918-05-13   \n",
      "998            wanda04@example.net          (915)292-2254    1971-08-31   \n",
      "999        deannablack@example.org     079.752.5424x67259    1947-01-24   \n",
      "\n",
      "                           Job Title  \n",
      "0                  Probation officer  \n",
      "1                             Dancer  \n",
      "2                               Copy  \n",
      "3           Counselling psychologist  \n",
      "4                Biomedical engineer  \n",
      "..                               ...  \n",
      "995                Personnel officer  \n",
      "996          Education administrator  \n",
      "997  Commercial/residential surveyor  \n",
      "998                 Ambulance person  \n",
      "999       Nurse, learning disability  \n",
      "\n",
      "[1000 rows x 9 columns]\n",
      "\n",
      "\n",
      "printing length\n",
      "\n",
      "\n",
      "1000\n"
     ]
    }
   ],
   "source": [
    "df1 = df1.rename(columns={\"Email\":\"Mail\"})\n",
    "print(df1)\n",
    "\n",
    "print(\"\\n\\nprinting length\\n\\n\")\n",
    "print(len(df1))"
   ]
  }
 ],
 "metadata": {
  "kernelspec": {
   "display_name": "Python 3",
   "language": "python",
   "name": "python3"
  },
  "language_info": {
   "codemirror_mode": {
    "name": "ipython",
    "version": 3
   },
   "file_extension": ".py",
   "mimetype": "text/x-python",
   "name": "python",
   "nbconvert_exporter": "python",
   "pygments_lexer": "ipython3",
   "version": "3.12.4"
  }
 },
 "nbformat": 4,
 "nbformat_minor": 5
}
