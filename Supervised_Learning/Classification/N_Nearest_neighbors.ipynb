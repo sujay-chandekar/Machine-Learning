{
 "cells": [
  {
   "cell_type": "markdown",
   "id": "a7321bd6",
   "metadata": {},
   "source": [
    "N Nearest Neighbours\n"
   ]
  },
  {
   "cell_type": "markdown",
   "id": "8b2673a6",
   "metadata": {},
   "source": [
    "eg\n",
    "person  weather feeling  to_gym\n",
    "A       sunny   energy      Yes\n",
    "B       Rainy   lazy        no\n",
    "C       Cloudy  normal      yes"
   ]
  },
  {
   "cell_type": "code",
   "execution_count": 1,
   "id": "e0cdf10f",
   "metadata": {},
   "outputs": [],
   "source": [
    "from sklearn.neighbors import KNeighborsClassifier"
   ]
  },
  {
   "cell_type": "code",
   "execution_count": null,
   "id": "5c048ca8",
   "metadata": {},
   "outputs": [
    {
     "name": "stdout",
     "output_type": "stream",
     "text": [
      "This fruit may be an orange\n"
     ]
    }
   ],
   "source": [
    "X = [\n",
    "    [180,7],# size,weight\n",
    "    [200,7.5],\n",
    "    [250,8],\n",
    "    [300,8.5],\n",
    "    [330,9],\n",
    "    [360,9.5]\n",
    "]\n",
    "y=[0,0,0,1,1,1] #0 --> apple 1-->  orange\n",
    "\n",
    "model = KNeighborsClassifier(n_neighbors=3)\n",
    "model.fit(X,y)\n",
    "weight = float(input(\"Enter weight of the fruit:\"))\n",
    "size = float(input(\"Enter size of the fruit:\"))\n",
    "prediction = model.predict([[weight,size]])[0]\n",
    "if prediction==0:\n",
    "    print(\"This fruit may be an apple\")\n",
    "\n",
    "else:\n",
    "    print(\"This fruit may be an orange\")"
   ]
  }
 ],
 "metadata": {
  "kernelspec": {
   "display_name": "Python 3",
   "language": "python",
   "name": "python3"
  },
  "language_info": {
   "codemirror_mode": {
    "name": "ipython",
    "version": 3
   },
   "file_extension": ".py",
   "mimetype": "text/x-python",
   "name": "python",
   "nbconvert_exporter": "python",
   "pygments_lexer": "ipython3",
   "version": "3.12.4"
  }
 },
 "nbformat": 4,
 "nbformat_minor": 5
}
