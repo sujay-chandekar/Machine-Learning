{
 "cells": [
  {
   "cell_type": "markdown",
   "id": "ef3cf576",
   "metadata": {},
   "source": [
    "Logistic Regression"
   ]
  },
  {
   "cell_type": "markdown",
   "id": "c650aa43",
   "metadata": {},
   "source": [
    "Example of Study Hours and Exam Outcome Prediction\n",
    "\n",
    "Study Hours: 1, 2, 3, 4, 5\n",
    "Outcomes: 0, 0, 1, 1, 1 (where 0 = Fail, 1 = Pass)"
   ]
  },
  {
   "cell_type": "code",
   "execution_count": 1,
   "id": "81e3ceca",
   "metadata": {},
   "outputs": [],
   "source": [
    "from sklearn.linear_model import LogisticRegression"
   ]
  },
  {
   "cell_type": "code",
   "execution_count": 2,
   "id": "2f3973eb",
   "metadata": {},
   "outputs": [
    {
     "name": "stdout",
     "output_type": "stream",
     "text": [
      "Based on your study hours, you are likely to pass\n"
     ]
    }
   ],
   "source": [
    "X = [[1],[2],[3],[4],[5]]\n",
    "y = [0,0,1,1,1]\n",
    "model = LogisticRegression()\n",
    "model.fit(X,y)\n",
    "hours = float(input(\"Enter the number of hours studied for prediction: \"))\n",
    "result = model.predict([[hours]])[0]\n",
    "if result==1:\n",
    "    print(\"Based on your study hours, you are likely to pass\")\n",
    "else:\n",
    "    print(\"Based on your study hours, you are likely to fail the exam\")"
   ]
  },
  {
   "cell_type": "code",
   "execution_count": null,
   "id": "cc106dad",
   "metadata": {},
   "outputs": [],
   "source": []
  }
 ],
 "metadata": {
  "kernelspec": {
   "display_name": "Python 3",
   "language": "python",
   "name": "python3"
  },
  "language_info": {
   "codemirror_mode": {
    "name": "ipython",
    "version": 3
   },
   "file_extension": ".py",
   "mimetype": "text/x-python",
   "name": "python",
   "nbconvert_exporter": "python",
   "pygments_lexer": "ipython3",
   "version": "3.12.4"
  }
 },
 "nbformat": 4,
 "nbformat_minor": 5
}
