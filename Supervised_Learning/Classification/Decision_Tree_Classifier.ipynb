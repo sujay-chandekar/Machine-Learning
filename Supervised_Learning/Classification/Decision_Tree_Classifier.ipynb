{
 "cells": [
  {
   "cell_type": "markdown",
   "id": "2ae58dd9",
   "metadata": {},
   "source": [
    "Decision Tree Classifier"
   ]
  },
  {
   "cell_type": "markdown",
   "id": "a49713d0",
   "metadata": {},
   "source": [
    "Eg :\n",
    "Is fever > 100\n",
    "    Yes > Cough ?\n",
    "        Yes > Flu\n",
    "        No > maybe\n",
    "    No -> No Flu\n",
    "\n",
    "Eg\n",
    "size    Color(1-10)     Fruit\n",
    "7       2               A\n",
    "8       3               A\n",
    "9       8               O\n",
    "10      9               O"
   ]
  },
  {
   "cell_type": "code",
   "execution_count": 1,
   "id": "e5116492",
   "metadata": {},
   "outputs": [],
   "source": [
    "from sklearn.tree import DecisionTreeClassifier"
   ]
  },
  {
   "cell_type": "code",
   "execution_count": 2,
   "id": "3d608481",
   "metadata": {},
   "outputs": [
    {
     "name": "stdout",
     "output_type": "stream",
     "text": [
      "The fruit is Orange\n"
     ]
    }
   ],
   "source": [
    "X = [\n",
    "    [7,2],#Apple\n",
    "    [8,3],#Apple\n",
    "    [9,8],#orange\n",
    "    [10,9]#Orange\n",
    "]\n",
    "y = [0,0,1,1] # )0-->Apple 1-->orange\n",
    "\n",
    "model = DecisionTreeClassifier()\n",
    "model.fit(X,y)\n",
    "size = float(input(\"Enter the size of the fruit: \")) # size range 1-10\n",
    "shade = float(input(\"Enter the shade of the fruit: \")) # shade range 1-10\n",
    "result = model.predict([[size,shade]])[0]\n",
    "if result == 0 :\n",
    "    print(\"The fruit is Apple\")\n",
    "else:\n",
    "    print(\"The fruit is Orange\")"
   ]
  },
  {
   "cell_type": "code",
   "execution_count": null,
   "id": "0ee9cbdb",
   "metadata": {},
   "outputs": [],
   "source": []
  }
 ],
 "metadata": {
  "kernelspec": {
   "display_name": "Python 3",
   "language": "python",
   "name": "python3"
  },
  "language_info": {
   "codemirror_mode": {
    "name": "ipython",
    "version": 3
   },
   "file_extension": ".py",
   "mimetype": "text/x-python",
   "name": "python",
   "nbconvert_exporter": "python",
   "pygments_lexer": "ipython3",
   "version": "3.12.4"
  }
 },
 "nbformat": 4,
 "nbformat_minor": 5
}
