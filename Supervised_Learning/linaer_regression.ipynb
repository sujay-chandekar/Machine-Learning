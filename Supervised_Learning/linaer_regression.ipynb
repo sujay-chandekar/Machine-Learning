{
 "cells": [
  {
   "cell_type": "markdown",
   "id": "5e8a2c27",
   "metadata": {},
   "source": [
    "Linar Regression"
   ]
  },
  {
   "cell_type": "markdown",
   "id": "fc965e70",
   "metadata": {},
   "source": [
    "1 --> Model Creation\n",
    "2 --> Model Fitting\n",
    "3 --> Prediction"
   ]
  },
  {
   "cell_type": "code",
   "execution_count": 3,
   "id": "1871df79",
   "metadata": {},
   "outputs": [],
   "source": [
    "from sklearn.linear_model import LinearRegression"
   ]
  },
  {
   "cell_type": "code",
   "execution_count": 5,
   "id": "4548fbf4",
   "metadata": {},
   "outputs": [
    {
     "name": "stdout",
     "output_type": "stream",
     "text": [
      "The hours you studied 6.0 and marks you will got according to your study hours [95.]\n"
     ]
    }
   ],
   "source": [
    "model = LinearRegression()\n",
    "#X gives in [[]] because machine understand the this is feature (column)\n",
    "X = [[1],[2],[3],[4],[5]]\n",
    "y = [45,55,65,75,85]\n",
    "model.fit(X,y)\n",
    "hours = float(input(\"Enter the how many hours you studied : \"))\n",
    "predicted_marks = model.predict([[hours]])\n",
    "print(f\"The hours you studied {hours} and marks you will got according to your study hours {predicted_marks}\")"
   ]
  }
 ],
 "metadata": {
  "kernelspec": {
   "display_name": "Python 3",
   "language": "python",
   "name": "python3"
  },
  "language_info": {
   "codemirror_mode": {
    "name": "ipython",
    "version": 3
   },
   "file_extension": ".py",
   "mimetype": "text/x-python",
   "name": "python",
   "nbconvert_exporter": "python",
   "pygments_lexer": "ipython3",
   "version": "3.12.4"
  }
 },
 "nbformat": 4,
 "nbformat_minor": 5
}
